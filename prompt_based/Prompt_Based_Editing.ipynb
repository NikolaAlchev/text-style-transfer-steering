{
  "cells": [
    {
      "cell_type": "markdown",
      "metadata": {
        "id": "fsTZm4QVdewe"
      },
      "source": [
        "# Prompt-Based Editing for Text Style Transfer\n",
        "\n",
        "### Notebook Overview\n",
        "This notebook implements **prompt-based editing** for text style transfer on the Yelp dataset.  \n",
        "We:\n",
        "- Prepare data and sample inputs\n",
        "- Define text editing and scoring models\n",
        "- Run hill-climbing style transfer\n",
        "- Evaluate outputs using sentiment, perplexity, and semantic similarity"
      ]
    },
    {
      "cell_type": "code",
      "execution_count": 1,
      "metadata": {
        "colab": {
          "base_uri": "https://localhost:8080/"
        },
        "id": "X3kfw5jzjojy",
        "outputId": "e8197414-7fcd-4f9c-b475-ef0caa5b0d87"
      },
      "outputs": [
        {
          "name": "stdout",
          "output_type": "stream",
          "text": [
            "Requirement already satisfied: nltk in /usr/local/lib/python3.12/dist-packages (3.9.1)\n",
            "Requirement already satisfied: numpy in /usr/local/lib/python3.12/dist-packages (2.0.2)\n",
            "Requirement already satisfied: python-dateutil in /usr/local/lib/python3.12/dist-packages (2.9.0.post0)\n",
            "Collecting python-rake\n",
            "  Downloading python_rake-1.5.0-py3-none-any.whl.metadata (1.1 kB)\n",
            "Requirement already satisfied: transformers in /usr/local/lib/python3.12/dist-packages (4.56.1)\n",
            "Requirement already satisfied: torch in /usr/local/lib/python3.12/dist-packages (2.8.0+cu126)\n",
            "Requirement already satisfied: sentencepiece in /usr/local/lib/python3.12/dist-packages (0.2.1)\n",
            "Requirement already satisfied: click in /usr/local/lib/python3.12/dist-packages (from nltk) (8.2.1)\n",
            "Requirement already satisfied: joblib in /usr/local/lib/python3.12/dist-packages (from nltk) (1.5.2)\n",
            "Requirement already satisfied: regex>=2021.8.3 in /usr/local/lib/python3.12/dist-packages (from nltk) (2024.11.6)\n",
            "Requirement already satisfied: tqdm in /usr/local/lib/python3.12/dist-packages (from nltk) (4.67.1)\n",
            "Requirement already satisfied: six>=1.5 in /usr/local/lib/python3.12/dist-packages (from python-dateutil) (1.17.0)\n",
            "Requirement already satisfied: filelock in /usr/local/lib/python3.12/dist-packages (from transformers) (3.19.1)\n",
            "Requirement already satisfied: huggingface-hub<1.0,>=0.34.0 in /usr/local/lib/python3.12/dist-packages (from transformers) (0.34.4)\n",
            "Requirement already satisfied: packaging>=20.0 in /usr/local/lib/python3.12/dist-packages (from transformers) (25.0)\n",
            "Requirement already satisfied: pyyaml>=5.1 in /usr/local/lib/python3.12/dist-packages (from transformers) (6.0.2)\n",
            "Requirement already satisfied: requests in /usr/local/lib/python3.12/dist-packages (from transformers) (2.32.4)\n",
            "Requirement already satisfied: tokenizers<=0.23.0,>=0.22.0 in /usr/local/lib/python3.12/dist-packages (from transformers) (0.22.0)\n",
            "Requirement already satisfied: safetensors>=0.4.3 in /usr/local/lib/python3.12/dist-packages (from transformers) (0.6.2)\n",
            "Requirement already satisfied: typing-extensions>=4.10.0 in /usr/local/lib/python3.12/dist-packages (from torch) (4.15.0)\n",
            "Requirement already satisfied: setuptools in /usr/local/lib/python3.12/dist-packages (from torch) (75.2.0)\n",
            "Requirement already satisfied: sympy>=1.13.3 in /usr/local/lib/python3.12/dist-packages (from torch) (1.13.3)\n",
            "Requirement already satisfied: networkx in /usr/local/lib/python3.12/dist-packages (from torch) (3.5)\n",
            "Requirement already satisfied: jinja2 in /usr/local/lib/python3.12/dist-packages (from torch) (3.1.6)\n",
            "Requirement already satisfied: fsspec in /usr/local/lib/python3.12/dist-packages (from torch) (2025.3.0)\n",
            "Requirement already satisfied: nvidia-cuda-nvrtc-cu12==12.6.77 in /usr/local/lib/python3.12/dist-packages (from torch) (12.6.77)\n",
            "Requirement already satisfied: nvidia-cuda-runtime-cu12==12.6.77 in /usr/local/lib/python3.12/dist-packages (from torch) (12.6.77)\n",
            "Requirement already satisfied: nvidia-cuda-cupti-cu12==12.6.80 in /usr/local/lib/python3.12/dist-packages (from torch) (12.6.80)\n",
            "Requirement already satisfied: nvidia-cudnn-cu12==9.10.2.21 in /usr/local/lib/python3.12/dist-packages (from torch) (9.10.2.21)\n",
            "Requirement already satisfied: nvidia-cublas-cu12==12.6.4.1 in /usr/local/lib/python3.12/dist-packages (from torch) (12.6.4.1)\n",
            "Requirement already satisfied: nvidia-cufft-cu12==11.3.0.4 in /usr/local/lib/python3.12/dist-packages (from torch) (11.3.0.4)\n",
            "Requirement already satisfied: nvidia-curand-cu12==10.3.7.77 in /usr/local/lib/python3.12/dist-packages (from torch) (10.3.7.77)\n",
            "Requirement already satisfied: nvidia-cusolver-cu12==11.7.1.2 in /usr/local/lib/python3.12/dist-packages (from torch) (11.7.1.2)\n",
            "Requirement already satisfied: nvidia-cusparse-cu12==12.5.4.2 in /usr/local/lib/python3.12/dist-packages (from torch) (12.5.4.2)\n",
            "Requirement already satisfied: nvidia-cusparselt-cu12==0.7.1 in /usr/local/lib/python3.12/dist-packages (from torch) (0.7.1)\n",
            "Requirement already satisfied: nvidia-nccl-cu12==2.27.3 in /usr/local/lib/python3.12/dist-packages (from torch) (2.27.3)\n",
            "Requirement already satisfied: nvidia-nvtx-cu12==12.6.77 in /usr/local/lib/python3.12/dist-packages (from torch) (12.6.77)\n",
            "Requirement already satisfied: nvidia-nvjitlink-cu12==12.6.85 in /usr/local/lib/python3.12/dist-packages (from torch) (12.6.85)\n",
            "Requirement already satisfied: nvidia-cufile-cu12==1.11.1.6 in /usr/local/lib/python3.12/dist-packages (from torch) (1.11.1.6)\n",
            "Requirement already satisfied: triton==3.4.0 in /usr/local/lib/python3.12/dist-packages (from torch) (3.4.0)\n",
            "Requirement already satisfied: hf-xet<2.0.0,>=1.1.3 in /usr/local/lib/python3.12/dist-packages (from huggingface-hub<1.0,>=0.34.0->transformers) (1.1.9)\n",
            "Requirement already satisfied: mpmath<1.4,>=1.1.0 in /usr/local/lib/python3.12/dist-packages (from sympy>=1.13.3->torch) (1.3.0)\n",
            "Requirement already satisfied: MarkupSafe>=2.0 in /usr/local/lib/python3.12/dist-packages (from jinja2->torch) (3.0.2)\n",
            "Requirement already satisfied: charset_normalizer<4,>=2 in /usr/local/lib/python3.12/dist-packages (from requests->transformers) (3.4.3)\n",
            "Requirement already satisfied: idna<4,>=2.5 in /usr/local/lib/python3.12/dist-packages (from requests->transformers) (3.10)\n",
            "Requirement already satisfied: urllib3<3,>=1.21.1 in /usr/local/lib/python3.12/dist-packages (from requests->transformers) (2.5.0)\n",
            "Requirement already satisfied: certifi>=2017.4.17 in /usr/local/lib/python3.12/dist-packages (from requests->transformers) (2025.8.3)\n",
            "Downloading python_rake-1.5.0-py3-none-any.whl (14 kB)\n",
            "Installing collected packages: python-rake\n",
            "Successfully installed python-rake-1.5.0\n"
          ]
        }
      ],
      "source": [
        "!pip install nltk numpy python-dateutil python-rake transformers torch sentencepiece"
      ]
    },
    {
      "cell_type": "code",
      "execution_count": 2,
      "metadata": {
        "colab": {
          "base_uri": "https://localhost:8080/"
        },
        "id": "ysrM8pVTc2OM",
        "outputId": "f88db4df-9866-4caa-eece-af6b31fc14a0"
      },
      "outputs": [
        {
          "name": "stderr",
          "output_type": "stream",
          "text": [
            "[nltk_data] Downloading package averaged_perceptron_tagger_eng to\n",
            "[nltk_data]     /root/nltk_data...\n",
            "[nltk_data]   Unzipping taggers/averaged_perceptron_tagger_eng.zip.\n",
            "[nltk_data] Downloading package punkt to /root/nltk_data...\n",
            "[nltk_data]   Unzipping tokenizers/punkt.zip.\n"
          ]
        },
        {
          "data": {
            "text/plain": [
              "True"
            ]
          },
          "execution_count": 2,
          "metadata": {},
          "output_type": "execute_result"
        }
      ],
      "source": [
        "import nltk\n",
        "import math\n",
        "import os\n",
        "import logging\n",
        "import torch\n",
        "import torch.nn as nn\n",
        "import sys\n",
        "import numpy as np\n",
        "import RAKE\n",
        "import datetime\n",
        "from dateutil import tz\n",
        "from tqdm import tqdm\n",
        "from transformers import logging as hf_logging\n",
        "hf_logging.set_verbosity_error()\n",
        "from transformers import GPT2LMHeadModel, GPT2Tokenizer, RobertaTokenizer, RobertaForMaskedLM, RobertaForSequenceClassification, \\\n",
        "AutoModelForCausalLM, AutoTokenizer, AutoModelForSequenceClassification\n",
        "from torch.nn import CrossEntropyLoss\n",
        "import random\n",
        "import pandas as pd\n",
        "import matplotlib.pyplot as plt\n",
        "from sentence_transformers import SentenceTransformer, util\n",
        "\n",
        "nltk.download('averaged_perceptron_tagger_eng')\n",
        "nltk.download('punkt')"
      ]
    },
    {
      "cell_type": "code",
      "execution_count": 3,
      "metadata": {
        "id": "YxRbrbJWdiWT"
      },
      "outputs": [],
      "source": [
        "device = torch.device(\"cuda\" if torch.cuda.is_available() else \"cpu\")\n",
        "\n",
        "stopwords = '#$%&()*+--)–/:;<=>@[\\\\]^_`{|}~—•… ™—' + '0123456789'\n",
        "\n",
        "DATASET_DICT = {\n",
        "    'yelp': {\n",
        "        'from': ['positive', 'negative'],\n",
        "        'from_to': {'positive': 'negative', 'negative': 'positive'},\n",
        "        'examples': [\n",
        "            ('negative', 'this place is awful!'),\n",
        "            ('positive', 'this place is amazing!', 'negative'),\n",
        "            ('negative', 'i hated their black tea and hated hot chocolate selections!'),\n",
        "            ('positive', 'i loved their black tea and loved hot chocolate selections!'),\n",
        "        ],\n",
        "    },\n",
        "}\n",
        "\n",
        "def write_sentence(dataset, delim_left, delim_right, orig_text, rewritten_text=None):\n",
        "    style_word = 'sentiment' if dataset == 'yelp' else 'style'\n",
        "    sentence = f'The {style_word} of the text {delim_left}{orig_text}{delim_right} is'\n",
        "    if rewritten_text is not None:\n",
        "        sentence = f'{sentence} {rewritten_text}'\n",
        "    return sentence\n",
        "\n",
        "FS_EOS_TOKEN = '\\n###\\n'\n",
        "\n",
        "def create_exemplars(dataset, num_examples, delim_left, delim_right):\n",
        "    prefix = ''\n",
        "    examples = DATASET_DICT[dataset]['examples'][:num_examples]\n",
        "    for example in examples:\n",
        "        orig_style, orig_text = example[0], example[1]\n",
        "        add_text = write_sentence(dataset, delim_left, delim_right, orig_text, orig_style)\n",
        "        prefix += f'{add_text}{FS_EOS_TOKEN}'\n",
        "    return prefix\n",
        "\n",
        "def set_seed(seed):\n",
        "    random.seed(seed)\n",
        "    np.random.seed(seed)\n",
        "    torch.manual_seed(seed)\n",
        "    if torch.cuda.is_available():\n",
        "        torch.cuda.manual_seed_all(seed)\n",
        "\n",
        "def softmax(x):\n",
        "    x = x - torch.max(x)\n",
        "    exp_x = torch.exp(x)\n",
        "    softmax_x = exp_x / torch.sum(exp_x)\n",
        "    return softmax_x\n",
        "\n",
        "def pytorch_cos_sim(a, b):\n",
        "    if not isinstance(a, torch.Tensor):\n",
        "        a = torch.tensor(a)\n",
        "    if not isinstance(b, torch.Tensor):\n",
        "        b = torch.tensor(b)\n",
        "    if len(a.shape) == 1:\n",
        "        a = a.unsqueeze(0)\n",
        "    if len(b.shape) == 1:\n",
        "        b = b.unsqueeze(0)\n",
        "    a_norm = torch.nn.functional.normalize(a, p=2, dim=1)\n",
        "    b_norm = torch.nn.functional.normalize(b, p=2, dim=1)\n",
        "    return torch.mm(a_norm, b_norm.transpose(0, 1))"
      ]
    },
    {
      "cell_type": "code",
      "execution_count": 4,
      "metadata": {
        "id": "7cP6jvC_diYk"
      },
      "outputs": [],
      "source": [
        "def predict_next_word(model, tokenizer, input_text, direction, dst, setting):\n",
        "    tokens_tensor = {k: v.to(device) for k, v in tokenizer(input_text, padding=True, return_tensors=\"pt\").items()}\n",
        "    model.eval()\n",
        "    with torch.no_grad():\n",
        "        outputs = model(**tokens_tensor)\n",
        "        predictions = outputs.logits\n",
        "    probs = predictions[:, -1, :]\n",
        "\n",
        "    pos_id = tokenizer.encode(' positive')[0] if ' positive' in tokenizer.get_vocab() else tokenizer.encode('positive')[0]\n",
        "    neg_id = tokenizer.encode(' negative')[0] if ' negative' in tokenizer.get_vocab() else tokenizer.encode('negative')[0]\n",
        "\n",
        "    pos_logits = probs[:, pos_id]\n",
        "    neg_logits = probs[:, neg_id]\n",
        "\n",
        "    emo_logits = torch.stack((neg_logits, pos_logits), dim=1)\n",
        "    softmax_emo_logits = torch.softmax(emo_logits, dim=1)\n",
        "\n",
        "    neg_prob = softmax_emo_logits[:, 0]\n",
        "    pos_prob = softmax_emo_logits[:, 1]\n",
        "\n",
        "    if direction == '0-1':\n",
        "        output_prob = pos_prob / (neg_prob + 1e-8)\n",
        "    else:\n",
        "        output_prob = neg_prob / (pos_prob + 1e-8)\n",
        "\n",
        "    if setting == 'zero-shot':\n",
        "        thres_neg = 0.6 if dst == 'yelp' else 0.7\n",
        "        thres_pos = 0.9\n",
        "    else:\n",
        "        thres_neg = 0.6\n",
        "        thres_pos = 0.9\n",
        "\n",
        "    argmax_labels = torch.argmax(softmax_emo_logits, dim=1)\n",
        "    labels = []\n",
        "    for idx in range(len(softmax_emo_logits)):\n",
        "        if argmax_labels[idx] == 0 and neg_prob[idx] >= thres_neg:\n",
        "            labels.append(0)\n",
        "        elif argmax_labels[idx] == 1 and pos_prob[idx] >= thres_pos:\n",
        "            labels.append(1)\n",
        "        else:\n",
        "            labels.append(2)\n",
        "\n",
        "    return output_prob, labels"
      ]
    },
    {
      "cell_type": "markdown",
      "metadata": {
        "id": "Y4lumO7EbYq6"
      },
      "source": [
        "### Model Arguments"
      ]
    },
    {
      "cell_type": "code",
      "execution_count": 9,
      "metadata": {
        "id": "u3ZtjkTndia3"
      },
      "outputs": [],
      "source": [
        "class Args:\n",
        "    def __init__(self):\n",
        "        self.output_dir = 'yelp/'\n",
        "        self.max_len = 32\n",
        "        self.seed = 42\n",
        "        self.class_name = 'EleutherAI/gpt-neo-2.7B'\n",
        "        self.topk = 15\n",
        "        self.direction = '0-1'\n",
        "        self.fluency_weight = 4\n",
        "        self.sem_weight = 4\n",
        "        self.style_weight = 12\n",
        "        self.max_steps = 6\n",
        "        self.dst = 'yelp'\n",
        "        self.setting = 'zero-shot'\n",
        "        self.bsz = 1\n",
        "        self.keyword_pos = True\n",
        "        self.early_stop = True"
      ]
    },
    {
      "cell_type": "code",
      "execution_count": 10,
      "metadata": {
        "id": "rgGDW8tBdids"
      },
      "outputs": [],
      "source": [
        "class RobertaEditor(nn.Module):\n",
        "    def __init__(self, opt):\n",
        "        super(RobertaEditor, self).__init__()\n",
        "        self.opt = opt\n",
        "        self.topk = opt.topk\n",
        "        self.model_dir = 'roberta-large'\n",
        "        self.model = RobertaForMaskedLM.from_pretrained(self.model_dir, return_dict=True).to(device)\n",
        "        self.tokenizer = RobertaTokenizer.from_pretrained(self.model_dir)\n",
        "        self.ops_map = [self.replace, self.insert, self.delete]\n",
        "        self.max_len = opt.max_len\n",
        "        self.Rake = RAKE.Rake(RAKE.SmartStopList())\n",
        "\n",
        "    def edit(self, inputs, ops, positions, bsz, max_len=None):\n",
        "        masked_inputs = []\n",
        "        for inp, op, position in zip(inputs, ops, positions):\n",
        "            try:\n",
        "                masked_input = self.ops_map[op](inp, position)\n",
        "                masked_inputs.append(masked_input)\n",
        "            except IndexError:\n",
        "                continue\n",
        "        if not masked_inputs:\n",
        "            return []\n",
        "        array_masked_inputs = np.array(masked_inputs)\n",
        "\n",
        "        if ops[0] < 2:\n",
        "            index = [idx for idx, masked_input in enumerate(masked_inputs) if '<mask>' in masked_input]\n",
        "            if not index:\n",
        "                return [masked_inputs]\n",
        "            mask_inputs = array_masked_inputs[index]\n",
        "            mask_outputs = self.generate(mask_inputs.tolist(), max_len or self.max_len)\n",
        "            output_lists = mask_outputs\n",
        "        else:\n",
        "            output_lists = [masked_inputs]\n",
        "\n",
        "        return output_lists\n",
        "\n",
        "    def generate(self, input_texts, max_len):\n",
        "        total_sent_list = []\n",
        "        rbt_sent_list = self.plm_token(input_texts, max_len)\n",
        "\n",
        "        for idx, rbt_sent in enumerate(rbt_sent_list):\n",
        "            try:\n",
        "                ids = torch.tensor([self.tokenizer.convert_tokens_to_ids(rbt_sent)]).to(device)\n",
        "                mask_token_index = torch.where(ids == self.tokenizer.mask_token_id)[1]\n",
        "                if mask_token_index.numel() == 0:\n",
        "                    total_sent_list.append([])\n",
        "                    continue\n",
        "                token_logits = self.model(ids).logits\n",
        "                masked_token_logits = token_logits[0, mask_token_index, :]\n",
        "\n",
        "                top_tokens = torch.topk(masked_token_logits, self.topk, dim=1).indices[0]\n",
        "                mask_words_list = list(set(self.tokenizer.decode([token.item()]).lower().strip() for token in top_tokens))\n",
        "\n",
        "                mask_words = [token for token in mask_words_list if len(set(token.split()) & set(stopwords)) == 0 and token not in 'bcdefghjklmnopqrstvwxyz']\n",
        "\n",
        "                sent_list = []\n",
        "                for mask_word in mask_words:\n",
        "                    split_text = input_texts[idx].split()\n",
        "                    mask_word_index = mask_token_index - 1\n",
        "                    if 0 < mask_word_index.item() < len(split_text) - 1 and (split_text[mask_word_index.item() - 1] == mask_word or split_text[mask_word_index.item() + 1] == mask_word):\n",
        "                        continue\n",
        "                    elif mask_word_index.item() == 0 and len(split_text) > 1 and split_text[mask_word_index.item() + 1] == mask_word:\n",
        "                        continue\n",
        "                    elif mask_word_index.item() == len(split_text) - 1 and len(split_text) > 1 and split_text[mask_word_index.item() - 1] == mask_word:\n",
        "                        continue\n",
        "                    else:\n",
        "                        cand_sent = input_texts[idx].replace(\"<mask>\", mask_word.strip()).lower()\n",
        "                        cand_sent = ' '.join(cand_sent.split()[:max_len])\n",
        "                        sent_list.append(cand_sent)\n",
        "\n",
        "                total_sent_list.append(sent_list)\n",
        "            except Exception as e:\n",
        "                print(f\"Generate error for input {input_texts[idx]}: {e}\")\n",
        "                total_sent_list.append([])\n",
        "                continue\n",
        "\n",
        "        return total_sent_list\n",
        "\n",
        "    def insert(self, input_text, mask_idx):\n",
        "        try:\n",
        "            input_texts_with_mask_list = input_text.split()[:mask_idx] + [\"<mask>\"] + input_text.split()[mask_idx:]\n",
        "            return \" \".join(input_texts_with_mask_list)\n",
        "        except:\n",
        "            return input_text\n",
        "\n",
        "    def replace(self, input_text, mask_idx):\n",
        "        try:\n",
        "            input_texts_with_mask_list = input_text.split()[:mask_idx] + [\"<mask>\"] + input_text.split()[mask_idx + 1:]\n",
        "            return \" \".join(input_texts_with_mask_list)\n",
        "        except:\n",
        "            return input_text\n",
        "\n",
        "    def delete(self, input_text, mask_idx):\n",
        "        try:\n",
        "            input_texts_with_mask_list = input_text.split()[:mask_idx] + input_text.split()[mask_idx + 1:]\n",
        "            return \" \".join(input_texts_with_mask_list)\n",
        "        except:\n",
        "            return input_text\n",
        "\n",
        "    def plm_token(self, lines, max_len):\n",
        "        rbt_lines = []\n",
        "        for line in lines:\n",
        "            plm_line = []\n",
        "            line = line.split()\n",
        "            for idx, token in enumerate(line):\n",
        "                if idx == 0:\n",
        "                    plm_line.append(token)\n",
        "                else:\n",
        "                    if token in [\"'s\", \"'d\", \"'m\", \"'re\", \"'ve\", \"'ll\", \"n't\", \"<mask>\"]:\n",
        "                        plm_line.append(token)\n",
        "                    else:\n",
        "                        token = 'Ġ' + token\n",
        "                        plm_line.append(token)\n",
        "            plm_line = plm_line[:self.max_len]\n",
        "            rbt_line = ['<s>'] + plm_line + ['</s>']\n",
        "            rbt_lines.append(rbt_line)\n",
        "        return rbt_lines\n",
        "\n",
        "    def state_vec(self, inputs):\n",
        "        sta_vec_list = []\n",
        "        pos_list = []\n",
        "        for line in inputs:\n",
        "            line = ' '.join(line.split()[:self.max_len])\n",
        "            sta_vec = list(np.zeros([self.max_len]))\n",
        "            try:\n",
        "                keyword = self.Rake.run(line)\n",
        "                pos_tags = nltk.pos_tag(line.split())\n",
        "            except LookupError as e:\n",
        "                print(f\"NLTK error in state_vec: {e}. Using default POS.\")\n",
        "                keyword = []\n",
        "                pos_tags = [(w, 'NN') for w in line.split()]\n",
        "            pos = [x[1] for x in pos_tags]\n",
        "            pos_list.append(pos)\n",
        "\n",
        "            if keyword:\n",
        "                keyword = list(list(zip(*keyword))[0])\n",
        "                keyword_new = []\n",
        "                linewords = line.split()\n",
        "                for i in range(len(linewords)):\n",
        "                    for item in keyword:\n",
        "                        length = len(item.split())\n",
        "                        if ' '.join(linewords[i:i + length]) == item:\n",
        "                            keyword_new.extend([i + k for k in range(length)])\n",
        "                for ind in keyword_new:\n",
        "                    if ind <= self.max_len - 2:\n",
        "                        sta_vec[ind] = 1\n",
        "\n",
        "            if self.opt.keyword_pos:\n",
        "                sta_vec_list.append(self.keyword_pos2sta_vec(sta_vec, pos))\n",
        "            else:\n",
        "                if sum(sta_vec) == 0:\n",
        "                    sta_vec[0] = 1\n",
        "                sta_vec_list.append(sta_vec)\n",
        "\n",
        "        return sta_vec_list, pos_list\n",
        "\n",
        "    def keyword_pos2sta_vec(self, keyword, pos):\n",
        "        key_ind = []\n",
        "        pos = pos[:self.max_len]\n",
        "        for i in range(len(pos)):\n",
        "            if keyword[i] == 1:\n",
        "                key_ind.append(i)\n",
        "            elif pos[i] in ['JJS', 'JJR', 'JJ', 'RBR', 'RBS', 'RB', 'VBZ', 'VBP', 'VBN', 'VBG', 'VBD', 'VB'] and keyword[i] == 0:\n",
        "                key_ind.append(i)\n",
        "        sta_vec = [1 if i in key_ind else 0 for i in range(len(keyword))]\n",
        "        if sum(sta_vec) == 0:\n",
        "            sta_vec[0] = 1\n",
        "        return sta_vec\n",
        "\n",
        "    def mean_pooling(self, model_output, attention_mask):\n",
        "        token_embeddings = model_output[0]\n",
        "        input_mask_expanded = attention_mask.unsqueeze(-1).expand(token_embeddings.size()).float()\n",
        "        return torch.sum(token_embeddings * input_mask_expanded, 1) / torch.clamp(input_mask_expanded.sum(1), min=1e-9)\n",
        "\n",
        "    def get_contextual_word_embeddings(self, input_texts):\n",
        "        if not isinstance(input_texts, list):\n",
        "            input_texts = [input_texts]\n",
        "        input_texts = [str(text) for text in input_texts if text and isinstance(text, str)]\n",
        "        if not input_texts:\n",
        "            print(\"Warning: Empty or invalid input_texts in get_contextual_word_embeddings\")\n",
        "            return torch.zeros(1, self.max_len, 1024).to(device), torch.zeros(1, 1024).to(device)\n",
        "\n",
        "        try:\n",
        "            inputs = {k: v.to(device) for k, v in self.tokenizer(input_texts, padding=True, return_tensors=\"pt\", truncation=True, max_length=self.max_len).items()}\n",
        "            outputs = self.model(**inputs, output_hidden_states=True)\n",
        "            sentence_embeddings = self.mean_pooling(outputs, inputs['attention_mask'])\n",
        "            hidden_states = outputs.hidden_states[-1][:, 1:self.max_len + 1, :].to(device)\n",
        "            return hidden_states, sentence_embeddings\n",
        "        except Exception as e:\n",
        "            print(f\"Tokenization error in get_contextual_word_embeddings: {e}\")\n",
        "            return torch.zeros(1, self.max_len, 1024).to(device), torch.zeros(1, 1024).to(device)"
      ]
    },
    {
      "cell_type": "code",
      "execution_count": 11,
      "metadata": {
        "id": "7T7JzOxGdtDU"
      },
      "outputs": [],
      "source": [
        "class SteepHC(nn.Module):\n",
        "    def __init__(self, opt, editor):\n",
        "        super(SteepHC, self).__init__()\n",
        "        self.opt = opt\n",
        "        self.editor = editor\n",
        "        self.flu_w = opt.fluency_weight\n",
        "        self.sem_w = opt.sem_weight\n",
        "        self.style_w = opt.style_weight\n",
        "        self.stride = 1024\n",
        "        self.dst = self.opt.dst\n",
        "\n",
        "        self.plm = AutoModelForCausalLM.from_pretrained(\n",
        "          self.opt.class_name,\n",
        "          torch_dtype=torch.float16,\n",
        "          device_map=\"auto\"\n",
        "        )\n",
        "        self.plm.eval()\n",
        "\n",
        "        self.tokenizer = AutoTokenizer.from_pretrained(self.opt.class_name)\n",
        "        self.tokenizer.pad_token = self.tokenizer.eos_token\n",
        "\n",
        "        self.max_len = self.opt.max_len\n",
        "        self.model = GPT2LMHeadModel.from_pretrained('gpt2').to(device)\n",
        "        self.ppl_max_len = self.model.config.n_positions\n",
        "\n",
        "    def style_scorer(self, ref_news):\n",
        "        if self.opt.setting == 'zero-shot':\n",
        "            num_es = 0\n",
        "            delim_left1, delim_right1 = \"\", \"\"\n",
        "        else:\n",
        "            num_es = 4\n",
        "            delim_left1, delim_right1 = \"{\", \"}\"\n",
        "\n",
        "        prefix = create_exemplars(self.dst, num_es, delim_left1, delim_right1)\n",
        "        prompts = [write_sentence(self.dst, \"{\", \"}\", text) for text in ref_news if text]\n",
        "        input_candidate_text = [prefix + prompt for prompt in prompts]\n",
        "\n",
        "        if not input_candidate_text:\n",
        "            return torch.tensor([0.0]).to(device), [2]\n",
        "\n",
        "        style_probs, style_labels = predict_next_word(self.plm, self.tokenizer, input_candidate_text, self.opt.direction, self.dst, self.opt.setting)\n",
        "        prob_new_probs = torch.pow(style_probs, self.style_w)\n",
        "\n",
        "        return prob_new_probs, style_labels\n",
        "\n",
        "    def fluency_scorer(self, ref_news):\n",
        "        ref_news = [text for text in ref_news if text]\n",
        "        if not ref_news:\n",
        "            return torch.tensor([1.0]).to(device)\n",
        "\n",
        "        encodings = self.tokenizer(ref_news, return_tensors=\"pt\", padding=True, max_length=self.max_len, truncation=True).to(device)\n",
        "        input_ids = encodings.input_ids\n",
        "        begin_loc = max(self.stride - self.ppl_max_len, 0)\n",
        "        end_loc = min(self.stride, input_ids.size(1))\n",
        "        trg_len = end_loc\n",
        "        input_ids = input_ids[:, begin_loc:end_loc].to(device)\n",
        "        target_ids = input_ids.clone()\n",
        "        target_ids[:, :-trg_len] = -100\n",
        "\n",
        "        with torch.no_grad():\n",
        "            outputs = self.model(input_ids, labels=target_ids)\n",
        "            lm_logits = outputs.logits\n",
        "            shift_logits = lm_logits[..., :-1, :].contiguous()\n",
        "            shift_labels = target_ids[..., 1:].contiguous()\n",
        "            loss_fct = CrossEntropyLoss(ignore_index=-100, reduction='none')\n",
        "            loss = loss_fct(shift_logits.view(-1, lm_logits.size(-1)), shift_labels.view(-1))\n",
        "            ppl = torch.exp(loss.reshape(-1, input_ids.shape[1] - 1).mean(dim=1))\n",
        "\n",
        "        return 1 / ppl.pow(self.flu_w)\n",
        "\n",
        "    def keyword_sim(self, ref_new_embeds, ref_old_embeds, state_vec=None):\n",
        "        e = 1e-5\n",
        "        repeat_num = ref_new_embeds.size(0)\n",
        "        emb1 = ref_new_embeds.permute(0, 2, 1)\n",
        "        emb2 = ref_old_embeds.repeat(repeat_num, 1, 1)\n",
        "        emb_mat = torch.bmm(emb2, emb1)\n",
        "        state_vec = torch.tensor(state_vec, dtype=torch.bool, device=device)\n",
        "        weight2 = state_vec.repeat(repeat_num, 1)[:, :emb2.shape[1]]\n",
        "        norm2 = 1 / (torch.norm(emb2, p=2, dim=2) + e)\n",
        "        norm1 = 1 / (torch.norm(emb1, p=2, dim=1) + e)\n",
        "        diag_norm2 = torch.diag_embed(norm2)\n",
        "        diag_norm1 = torch.diag_embed(norm1)\n",
        "        sim_mat = torch.bmm(torch.bmm(diag_norm2, emb_mat), diag_norm1)\n",
        "        sim_vec, _ = torch.max(sim_mat, dim=2)\n",
        "        try:\n",
        "            kw_similarity, _ = torch.min(sim_vec[weight2].reshape(repeat_num, -1), dim=1)\n",
        "        except:\n",
        "            weight2[:, 0] = True\n",
        "            kw_similarity, _ = torch.min(sim_vec[weight2].reshape(repeat_num, -1), dim=1)\n",
        "        return kw_similarity\n",
        "\n",
        "    def semantic_scorer(self, ref_news, ref_olds, state_vec=None):\n",
        "        ref_new_embeds, mean_new_embeds = self.editor.get_contextual_word_embeddings(ref_news)\n",
        "        ref_old_embeds, mean_old_embeds = self.editor.get_contextual_word_embeddings(ref_olds)\n",
        "        kw_sim = self.keyword_sim(ref_new_embeds, ref_old_embeds, state_vec)\n",
        "        sent_sim = pytorch_cos_sim(mean_new_embeds, mean_old_embeds)\n",
        "        similarity = kw_sim.pow(self.sem_w) * sent_sim.pow(self.sem_w).squeeze()\n",
        "        return similarity\n",
        "\n",
        "    def scorer(self, input_news, ref_oris, state_vec=None):\n",
        "        input_news = [text for text in input_news if text]\n",
        "        if not input_news:\n",
        "            return torch.tensor([0.0]).to(device), [2]\n",
        "        fluency_scores = self.fluency_scorer(input_news)\n",
        "        style_scores, style_labels = self.style_scorer(input_news)\n",
        "        sim_scores = self.semantic_scorer(input_news, ref_oris, state_vec).squeeze()\n",
        "        total_scores = fluency_scores * sim_scores * style_scores\n",
        "        return total_scores.squeeze(), style_labels\n",
        "\n",
        "    def acceptance_prob(self, input_news, input_olds, ref_oris, state_vec):\n",
        "        input_news = [text for text in input_news if text]\n",
        "        if not input_news:\n",
        "            return 0, torch.tensor([0.0]).to(device), torch.tensor([0.0]).to(device), [2], [0]\n",
        "        ref_old_score, _ = self.scorer(input_olds, ref_oris, state_vec)\n",
        "        ref_new_scores, new_style_labels = self.scorer(input_news, ref_oris, state_vec)\n",
        "        ref_new_score_index = torch.argmax(ref_new_scores)\n",
        "        ref_new_score = torch.max(ref_new_scores)\n",
        "        accept = [1 if ref_new_score - ref_old_score > 0 else 0]\n",
        "        return ref_new_score_index, ref_old_score, ref_new_score, new_style_labels, accept"
      ]
    },
    {
      "cell_type": "markdown",
      "metadata": {
        "id": "7xXVGyGmdxDh"
      },
      "source": [
        "### Load Yelp Sentiment Dataset"
      ]
    },
    {
      "cell_type": "code",
      "execution_count": 12,
      "metadata": {
        "colab": {
          "base_uri": "https://localhost:8080/"
        },
        "id": "tWYmoY6xdx0g",
        "outputId": "85fffca1-9421-4511-afe5-7a0333779d8e"
      },
      "outputs": [
        {
          "name": "stdout",
          "output_type": "stream",
          "text": [
            "Loaded 500 lines from /content/data/yelp/test.0\n"
          ]
        }
      ],
      "source": [
        "file_path = '/content/data/yelp/test.0'\n",
        "\n",
        "with open(file_path, 'r') as f:\n",
        "    sample_negative = [line.strip() for line in f.readlines()]\n",
        "\n",
        "print(\"Loaded\", len(sample_negative), \"lines from\", file_path)"
      ]
    },
    {
      "cell_type": "markdown",
      "metadata": {
        "id": "b18EXuTYZ7DG"
      },
      "source": [
        "### Main Function"
      ]
    },
    {
      "cell_type": "code",
      "execution_count": null,
      "metadata": {
        "colab": {
          "base_uri": "https://localhost:8080/",
          "height": 1000,
          "referenced_widgets": [
            "eb3f76eb46834918974d8da64733e5b8",
            "2e2378a7862e421cb75052ca47d7f2f9",
            "9d5d88fe4dc74910b8be2ede19eb9c6d",
            "95ac226259e64ff79826c16ccffe69fb",
            "f9bc40a501c64be68f3343a31ffa3c7a",
            "0427a59269284853b1f8560d6900a79b",
            "645592bdaa0a45b7967bdb18b7cc6879",
            "87f404e498714e5fb31c46572655fd3e",
            "1de87e5f9f314a0888c42819bfdcf7af",
            "d41fb86c8c1640bca0f7a8508e9ed185",
            "7fb6d9b344ca48babc6f2da0c6983c58",
            "b5c2958a02da491a9c3319d81ff9c352",
            "64313a39cf184e40a51fda23b8f8c8de",
            "fdbee0de09734bebbffbb7fba7cfdb6b",
            "34ab6ee4222e4d308749f4f22ffa0665",
            "bfdf6b946cfc4ff8930ba079b7b15de0",
            "7fe41022acd745d99c843313e647b13b",
            "61c64c97a4ab4df08fa103384c1ff2c3",
            "5a05256dc46f4b3688c8d0d84ce14811",
            "9710800ad47542838ad691680231dca2",
            "41d3b53ac65940c5b605599f04a98cb1",
            "132790bfb7b04be3a643a875b5ee5d2d",
            "6251c849918e4f49afab5f170f3a594e",
            "37d353e3e1b846beadba731e12af7055",
            "2806205a858547c9a96ffd9ddb9a22d1",
            "8d61809422324de99c4d326675d31932",
            "d889c33ea99e4745b076bbe8c6c5bb1f",
            "9feda16ff8014df0acd065ec2700543c",
            "043a199c31b342d3babd16bfd827cc9f",
            "25c415f3424a4677812640567cea6554",
            "53fc09bdf6594ed0a6d9b55f370b1165",
            "7cf938e4bf0140598d3d65a0066e239a",
            "172b02a90c0f4328a0e50dbb9635f3c1",
            "4972eb27b9e54f58b43cb8c6f28d4dae",
            "ae5d4fe2ed474758ab4100434c84782a",
            "888146b404a242cd97f2a75d4794f644",
            "80d13233e71e4c579e99c03055c0bd30",
            "f1316576173145ff83a5438c3b9c05f7",
            "7d69f4cc363b4a59a8ebd78db6af0e0a",
            "2fd0a2092a0843be9860a8d56e93cdfd",
            "00a35f9aea0f4b46a95bb46446827804",
            "2089210a5cf04241aaeaf3c1281e037a",
            "3863b1f4bd7e4726851a72b10aae4ad7",
            "f7dd2db8f005412198cf5fc5d5a1aabb",
            "326ac7452047463b978cd9409ae3d522",
            "5e42d541903d4e9b843ce513d9f97c47",
            "84aac52b6263494bb39d17fd0bd9b696",
            "6412b535c7454924b004fe10e6b2c2de",
            "ed171c5634624071af22786f1e4ffa06",
            "b29b124001bd4956a3ad4b78ddbb6044",
            "671168d5dfd24ee5a0b5e388f74f48f9",
            "46295c7445be49cc9e6e6b8cdb715a72",
            "d9ba9c259f3541b4ab95a780a63b26b4",
            "9c97adccae7e4d8c816cb67ac2bd6d6a",
            "a66f9fc78f7244f98fdae8c628c148cc",
            "e362ceec3e3843ecb434451882ba2b40",
            "11f53fcf48f046038eea1ec259d5f545",
            "9aaf0151b6754809af353d0db59bfb68",
            "0c395efa793b434ca3f89447f856440c",
            "ade01cbec340412eb37cb0daae9dc707",
            "5fc65972c77b4c74bdcdb2e95084e9d0",
            "a15aebc2870b4d00b15a60e4968b2d31",
            "395bc5b3e8334eae980a3e689b608d10",
            "9c5cdf118a6a4e82a69b9cc7a8a8f651",
            "c9b3d844a045410e8641437e7767dc1b",
            "dba27c9d32fa47f49cdd5f1ef4f9f27b",
            "ca89c9e4ce764c98b9793cb8f8a7d8f6",
            "ab201b110fda4f85a25365417138d1dd",
            "11826f1955634e85846e29e17334fcc4",
            "7028539cbc784c4a82aeea58a56374b8",
            "5474e24f03e84a7eb99a5a3990f6215f",
            "d15bb83075ef4dfdacd48d9042862be7",
            "44b0837124304a02a55389c0e49a442c",
            "cb859b5b701b4b02aecfae7de59e45df",
            "251c5534506d40ef9752248e343b5fd9",
            "f58384ed08ce43d091d1d96679a89322",
            "a6c300544b1744208a026de48eeaf07c",
            "1acb0cc2c6854ddd873ce76f5fede529",
            "485c99f8b1124a7f983952e296c76c74",
            "1562978b68dd4c429204d911511a466f",
            "64a99db9120b46418fe31997ff64a071",
            "c4ce2fce75de401696c58a725ec043a5",
            "592eae7ce6d041eaa3fe6738a973f55b",
            "6959a749c06f4789b1c180285e43604f",
            "19309ad535ba461eba12bb13b76c72ec",
            "e23a4fff219641129880f540daf4d2ee",
            "238b0efd2b1b48398521fbeb15765a45",
            "9e43d41b5176492fa18d309170714581",
            "b5e8355f5fc6420cb85d7916ae663751",
            "1e17e789414f4790b4e0df2bff752767",
            "d1bf67043ed74c6eb279eae6d249c248",
            "ba27085b753944dfb5ed45ac8709be8b",
            "ae6e9dadb08843599046e08f9d1746dc",
            "38ee344a743d4667832b6b9cce518420",
            "c68722b578644ba788e70667ae31e7d4",
            "b56be44e536b48b386b9d9c902a2625a",
            "5621284230724c34a9fd83eaa2906cd4",
            "68b93f44abc24cf6ba89a2693a536ebd",
            "c2f20f7dbeb24cf486ca3a4538a8c540",
            "f24a14801855497a8141ed75e9577d3f",
            "0e5e4da7161f438595d566dc12d85f28",
            "c3f452473e3c443294577e26dba3372e",
            "37dcc94ddb6e4e9e9669e0368d372481",
            "363dbe0f613e4d25865eef7296abbca9",
            "057cdd7227d8409e8967d71522686aff",
            "025088c6f33d421cb44338fd45f63642",
            "f10ff82525674d6bb1e32397d50aa9b8",
            "daabc89086c5489d99976535407b082f",
            "fdd138b1dc554154a9e06125bfd1782f",
            "0929779debba4a4390cbf4beb174d71c",
            "061b3096a4fa4eae8da6f8e66fe64edd",
            "e109ecebcffa452498935ffc310d3059",
            "8f586b78975140469845bf048d0dcfaf",
            "e90187bfcae2448ab2d7474ea78aa69c",
            "5909ee7302dc417898c4a7a46bb39cb0",
            "36c560010b0843e9bbd85a2fa35864f3",
            "963f13efbddb4a818ff7aee987af4bda",
            "2194413eede74c3a9ea0d95e0716aeb1",
            "bc12d01a5985437ab0712337c010e256",
            "55f45e8e1e584109b31472981fd8dd78",
            "5c293d181645446c97d88cabd50b76a9",
            "d64732aa161f4d60962aecc80664b303",
            "17577149d43c4a7fbefff5d601eea4f3",
            "9a35b7464cb24879bed521c7ce4478cc",
            "01dc1aaae2ae4ef1b1c8cf6cde3e113a",
            "008dc795899442eeae63beed0863b597",
            "846875d1ff524d469e1c53a6502a2e8c",
            "c6f2c76be1d647388d9e5b07494b8859",
            "6b0e08fb68ac476588de8ed43e5cd9dd",
            "7210f0b87020451780148c1d0a713a23",
            "fde6080d8cf04732be30c517045c6403",
            "fcf45720c7ca458db1f26b73ad5dec06",
            "bf93c03d2b014d5cbd6712f516491544",
            "1c22027cbc174f1bbc8ab1b22874ed73",
            "ab6ccbb6efa64e9e82d8310467a68ddb",
            "a70e97e0d239440ba75e2db3bddf9c87",
            "39960a85e49b4bdca1b0ef798fbdecd6",
            "a21cf5dea29344e7a0ab9f5a585b9ba6",
            "2c511b5f149847dfa6c249db009f72a4",
            "c5123d40a9fa4a77b1a2ed009ee225af",
            "4a114757e12d47d4b452dc990a50f5e8",
            "e6727855a71945c7b1573d6006b395f8",
            "d93bbe42e1ef43ed91a23e5154bc1ea6",
            "9f70c5d65b2c4639b7d9842745fb9cd2",
            "8c45eb064b34403aaf65f5d3da993a8f",
            "ba16a856c151414fb485b756daa79336",
            "b5d10fe448cf402e94119db14f5a265c",
            "f5718d347e0e451dbcaa4c3bca002e07",
            "21dce811b65a4110838f3ac67094006f",
            "1694d983443b4ef3b88d66014efd221f",
            "40d5fbd63aa44f18a4bb8d33a8eb9295",
            "61c980d7fdaa44f6b00be6c15cf34360",
            "14e2c7c36764482c8c55500fb58a3091",
            "109cf3a647be4342b05e6e52884c1c19",
            "95c0daf26d104f8ca1162c66faa97f9e",
            "08a8788976774cae8ec461d070301f94",
            "2e49deb25e0d4f4eb08fb2d69a7b6a02",
            "d796480c11d24417ab5e639b8bf77d0e",
            "887fe97adf8944f8ae2b92d465ff5e46",
            "dadc4b0739d64539a8d49c04955f1836",
            "fa4a6226e0e34667a9c005ec5bfb180c",
            "d83375fb5c874134b03597efcc4f8cb4",
            "b0fe7bed022f4e379ca4c65472d80a4a",
            "0f6b32c8980a426f96f8af9af27bb71f",
            "f23b7b839949416c80cb8288d19d3a6a"
          ]
        },
        "id": "ESZTcI41dx21",
        "outputId": "32b1ca4d-7f02-4af7-f904-89149a862666"
      },
      "outputs": [
        {
          "name": "stderr",
          "output_type": "stream",
          "text": [
            "/usr/local/lib/python3.12/dist-packages/huggingface_hub/utils/_auth.py:94: UserWarning: \n",
            "The secret `HF_TOKEN` does not exist in your Colab secrets.\n",
            "To authenticate with the Hugging Face Hub, create a token in your settings tab (https://huggingface.co/settings/tokens), set it as secret in your Google Colab and restart your session.\n",
            "You will be able to reuse this secret in all of your notebooks.\n",
            "Please note that authentication is recommended but still optional to access public models or datasets.\n",
            "  warnings.warn(\n"
          ]
        },
        {
          "data": {
            "application/vnd.jupyter.widget-view+json": {
              "model_id": "eb3f76eb46834918974d8da64733e5b8",
              "version_major": 2,
              "version_minor": 0
            },
            "text/plain": [
              "config.json:   0%|          | 0.00/482 [00:00<?, ?B/s]"
            ]
          },
          "metadata": {},
          "output_type": "display_data"
        },
        {
          "data": {
            "application/vnd.jupyter.widget-view+json": {
              "model_id": "b5c2958a02da491a9c3319d81ff9c352",
              "version_major": 2,
              "version_minor": 0
            },
            "text/plain": [
              "model.safetensors:   0%|          | 0.00/1.42G [00:00<?, ?B/s]"
            ]
          },
          "metadata": {},
          "output_type": "display_data"
        },
        {
          "data": {
            "application/vnd.jupyter.widget-view+json": {
              "model_id": "6251c849918e4f49afab5f170f3a594e",
              "version_major": 2,
              "version_minor": 0
            },
            "text/plain": [
              "tokenizer_config.json:   0%|          | 0.00/25.0 [00:00<?, ?B/s]"
            ]
          },
          "metadata": {},
          "output_type": "display_data"
        },
        {
          "data": {
            "application/vnd.jupyter.widget-view+json": {
              "model_id": "4972eb27b9e54f58b43cb8c6f28d4dae",
              "version_major": 2,
              "version_minor": 0
            },
            "text/plain": [
              "vocab.json:   0%|          | 0.00/899k [00:00<?, ?B/s]"
            ]
          },
          "metadata": {},
          "output_type": "display_data"
        },
        {
          "data": {
            "application/vnd.jupyter.widget-view+json": {
              "model_id": "326ac7452047463b978cd9409ae3d522",
              "version_major": 2,
              "version_minor": 0
            },
            "text/plain": [
              "merges.txt:   0%|          | 0.00/456k [00:00<?, ?B/s]"
            ]
          },
          "metadata": {},
          "output_type": "display_data"
        },
        {
          "data": {
            "application/vnd.jupyter.widget-view+json": {
              "model_id": "e362ceec3e3843ecb434451882ba2b40",
              "version_major": 2,
              "version_minor": 0
            },
            "text/plain": [
              "tokenizer.json:   0%|          | 0.00/1.36M [00:00<?, ?B/s]"
            ]
          },
          "metadata": {},
          "output_type": "display_data"
        },
        {
          "data": {
            "application/vnd.jupyter.widget-view+json": {
              "model_id": "ca89c9e4ce764c98b9793cb8f8a7d8f6",
              "version_major": 2,
              "version_minor": 0
            },
            "text/plain": [
              "config.json: 0.00B [00:00, ?B/s]"
            ]
          },
          "metadata": {},
          "output_type": "display_data"
        },
        {
          "data": {
            "application/vnd.jupyter.widget-view+json": {
              "model_id": "1acb0cc2c6854ddd873ce76f5fede529",
              "version_major": 2,
              "version_minor": 0
            },
            "text/plain": [
              "model.safetensors:   0%|          | 0.00/10.7G [00:00<?, ?B/s]"
            ]
          },
          "metadata": {},
          "output_type": "display_data"
        },
        {
          "data": {
            "application/vnd.jupyter.widget-view+json": {
              "model_id": "b5e8355f5fc6420cb85d7916ae663751",
              "version_major": 2,
              "version_minor": 0
            },
            "text/plain": [
              "tokenizer_config.json:   0%|          | 0.00/200 [00:00<?, ?B/s]"
            ]
          },
          "metadata": {},
          "output_type": "display_data"
        },
        {
          "data": {
            "application/vnd.jupyter.widget-view+json": {
              "model_id": "f24a14801855497a8141ed75e9577d3f",
              "version_major": 2,
              "version_minor": 0
            },
            "text/plain": [
              "vocab.json: 0.00B [00:00, ?B/s]"
            ]
          },
          "metadata": {},
          "output_type": "display_data"
        },
        {
          "data": {
            "application/vnd.jupyter.widget-view+json": {
              "model_id": "061b3096a4fa4eae8da6f8e66fe64edd",
              "version_major": 2,
              "version_minor": 0
            },
            "text/plain": [
              "merges.txt: 0.00B [00:00, ?B/s]"
            ]
          },
          "metadata": {},
          "output_type": "display_data"
        },
        {
          "data": {
            "application/vnd.jupyter.widget-view+json": {
              "model_id": "d64732aa161f4d60962aecc80664b303",
              "version_major": 2,
              "version_minor": 0
            },
            "text/plain": [
              "special_tokens_map.json:   0%|          | 0.00/90.0 [00:00<?, ?B/s]"
            ]
          },
          "metadata": {},
          "output_type": "display_data"
        },
        {
          "data": {
            "application/vnd.jupyter.widget-view+json": {
              "model_id": "bf93c03d2b014d5cbd6712f516491544",
              "version_major": 2,
              "version_minor": 0
            },
            "text/plain": [
              "config.json:   0%|          | 0.00/665 [00:00<?, ?B/s]"
            ]
          },
          "metadata": {},
          "output_type": "display_data"
        },
        {
          "data": {
            "application/vnd.jupyter.widget-view+json": {
              "model_id": "9f70c5d65b2c4639b7d9842745fb9cd2",
              "version_major": 2,
              "version_minor": 0
            },
            "text/plain": [
              "model.safetensors:   0%|          | 0.00/548M [00:00<?, ?B/s]"
            ]
          },
          "metadata": {},
          "output_type": "display_data"
        },
        {
          "data": {
            "application/vnd.jupyter.widget-view+json": {
              "model_id": "95c0daf26d104f8ca1162c66faa97f9e",
              "version_major": 2,
              "version_minor": 0
            },
            "text/plain": [
              "generation_config.json:   0%|          | 0.00/124 [00:00<?, ?B/s]"
            ]
          },
          "metadata": {},
          "output_type": "display_data"
        },
        {
          "name": "stdout",
          "output_type": "stream",
          "text": [
            "hill climbing!\n",
            "hill climbing!\n",
            "hill climbing!\n",
            "hill climbing!\n",
            "don't climb, stop!\n",
            "climb 5 steps, the selected sentence is: even since joes has changed hands and it 's just gotten better and worse !\n",
            "hill climbing!\n",
            "hill climbing!\n",
            "hill climbing!\n",
            "hill climbing!\n",
            "don't climb, stop!\n",
            "climb 5 steps, the selected sentence is: , and there is definitely still enough dance room in that part of the venue .\n",
            "hill climbing!\n",
            "hill climbing!\n",
            "hill climbing!\n",
            "hill climbing!\n",
            "hill climbing!\n",
            "hill climbing!\n",
            "climb 6 steps, the selected sentence is: so they may be less watered down and .\n",
            "hill climbing!\n",
            "hill climbing!\n",
            "hill climbing!\n",
            "don't climb, stop!\n",
            "climb 4 steps, the selected sentence is: after she said she we i 'd be back and disappeared for a few minutes .\n",
            "hill climbing!\n",
            "hill climbing!\n",
            "hill climbing!\n",
            "don't climb, stop!\n",
            "climb 4 steps, the selected sentence is: i can not believe how amazingly awesome this site is .\n",
            "hill climbing!\n",
            "hill climbing!\n",
            "hill climbing!\n",
            "hill climbing!\n",
            "hill climbing!\n",
            "hill climbing!\n",
            "climb 6 steps, the selected sentence is: found it and successfully pulled it off the bill\n",
            "hill climbing!\n",
            "hill climbing!\n",
            "hill climbing!\n",
            "don't climb, stop!\n",
            "climb 4 steps, the selected sentence is: it is pretty amazing , but it is it very good either .\n",
            "hill climbing!\n",
            "hill climbing!\n",
            "hill climbing!\n",
            "don't climb, stop!\n",
            "climb 4 steps, the selected sentence is: was definitely did not disappointed that i could not use my birthday gift !\n",
            "hill climbing!\n",
            "hill climbing!\n",
            "hill climbing!\n",
            "hill climbing!\n",
            "don't climb, stop!\n",
            "climb 5 steps, the selected sentence is: i new yorker story , i heard story but i do n't know the details .\n",
            "hill climbing!\n",
            "hill climbing!\n",
            "hill climbing!\n",
            "hill climbing!\n",
            "hill climbing!\n",
            "don't climb, stop!\n",
            "climb 6 steps, the selected sentence is: except for where it sometimes sucks too much\n",
            "hill climbing!\n",
            "hill climbing!\n",
            "hill climbing!\n",
            "don't climb, stop!\n",
            "climb 4 steps, the selected sentence is: we sit down and we got some really hot amazing wonderful service .\n",
            "hill climbing!\n",
            "hill climbing!\n",
            "hill climbing!\n",
            "hill climbing!\n",
            "hill climbing!\n",
            "don't climb, stop!\n",
            "climb 6 steps, the selected sentence is: and the vegan meals will include miso soup and a small salad and\n",
            "hill climbing!\n",
            "hill climbing!\n",
            "hill climbing!\n",
            "hill climbing!\n",
            "hill climbing!\n",
            "don't climb, stop!\n",
            "climb 6 steps, the selected sentence is: notice ther was no extra note i 'm sorry or how did this come out .\n",
            "hill climbing!\n",
            "hill climbing!\n",
            "hill climbing!\n",
            "hill climbing!\n",
            "don't climb, stop!\n",
            "climb 5 steps, the selected sentence is: lisa said we could return to n't sit at the table if we were the n't ordering dinner .\n",
            "hill climbing!\n"
          ]
        }
      ],
      "source": [
        "def main():\n",
        "    args = Args()\n",
        "    set_seed(args.seed)\n",
        "    editor = RobertaEditor(args).to(device)\n",
        "    sahc = SteepHC(args, editor).to(device)\n",
        "    of_dir = 'results/' + args.output_dir\n",
        "    os.makedirs(of_dir, exist_ok=True)\n",
        "\n",
        "    if args.direction == '0-1':\n",
        "        postfix = '0'\n",
        "    else:\n",
        "        postfix = '1'\n",
        "\n",
        "    filename = f'/content/data/{args.dst}/test.{postfix}'\n",
        "    try:\n",
        "        with open(filename, 'r', encoding='utf8') as f:\n",
        "            data = f.readlines()\n",
        "    except FileNotFoundError:\n",
        "        print(f\"Error: {filename} not found.\")\n",
        "        return None\n",
        "\n",
        "    bsz = args.bsz\n",
        "    max_len = args.max_len\n",
        "    dst = args.dst\n",
        "    num_batches = math.ceil(len(data) / bsz)\n",
        "    timestamp = datetime.datetime.now().astimezone(tz.gettz()).strftime('%Y-%m-%d_%H:%M:%S')\n",
        "    output_file = f'{timestamp}_{dst}_seed={args.seed}_{args.style_weight}_{args.direction}.txt'\n",
        "    log_txt_path = os.path.join(of_dir, output_file.replace('.txt', '.log'))\n",
        "    logging.basicConfig(filename=log_txt_path, level=logging.INFO, format='')\n",
        "\n",
        "    word_pairs = {\"ca n't\": \"can not\", \"wo n't\": \"will not\"}\n",
        "    logging.info(str(args.__dict__))\n",
        "\n",
        "    def print_es():\n",
        "        print(\"Early Stopping!\")\n",
        "        logging.info(\"Early Stopping!\")\n",
        "\n",
        "    output_path = os.path.join(of_dir, output_file)\n",
        "    with open(output_path, 'w', encoding='utf8') as f:\n",
        "        for i in range(num_batches):\n",
        "            batch_data = data[bsz * i:bsz * (i + 1)]\n",
        "            ref_oris = []\n",
        "            for d in batch_data:\n",
        "                d = d.strip().lower()\n",
        "                for k, v in word_pairs.items():\n",
        "                    d = d.replace(k, v)\n",
        "                ref_oris.append(d)\n",
        "\n",
        "            ref_olds = ref_oris.copy()\n",
        "            state_vec, _ = editor.state_vec(ref_olds)\n",
        "\n",
        "            break_flag = False\n",
        "            max_score = 0\n",
        "            step_max_score_list = [0]\n",
        "            seq_len = [len(line.split()) for line in ref_olds]\n",
        "            max_seq_len = max(seq_len, default=1)\n",
        "\n",
        "            select_sent = ref_olds[0]\n",
        "\n",
        "            for step in range(args.max_steps):\n",
        "                ref_news = []\n",
        "                for positions in range(max_seq_len + 1):\n",
        "                    for ops in [0, 1, 2]:\n",
        "                        try:\n",
        "                            edited = editor.edit(ref_olds, [ops] * bsz, [positions] * bsz, bsz, max_len)\n",
        "                            if edited and any(e for e in edited if e):\n",
        "                                ref_news.extend([e for sublist in edited for e in (sublist if isinstance(sublist, list) else [sublist]) if e])\n",
        "                        except Exception as e:\n",
        "                            print(f\"Edit error at step {step}, pos {positions}, op {ops}: {e}\")\n",
        "                            continue\n",
        "\n",
        "                if not ref_news:\n",
        "                    print(\"No valid candidates generated. Skipping step.\")\n",
        "                    break\n",
        "\n",
        "                for ref_new_batch_data in ref_news:\n",
        "                    try:\n",
        "                        if isinstance(ref_new_batch_data, list):\n",
        "                            ref_new_batch_data = ref_new_batch_data[0] if ref_new_batch_data else ref_olds[0]\n",
        "                        index, ref_old_score, ref_new_score, new_style_labels, _ = sahc.acceptance_prob(\n",
        "                            [ref_new_batch_data], ref_olds, ref_oris, state_vec)\n",
        "                        ref_hat = ref_new_batch_data\n",
        "                        new_style_label = new_style_labels[index]\n",
        "\n",
        "                        if ref_new_score > max_score and ref_new_score > ref_old_score:\n",
        "                            max_score = ref_new_score\n",
        "                            select_sent = ref_hat\n",
        "\n",
        "                        if args.early_stop:\n",
        "                            if (args.direction == '0-1' and new_style_label == 1) or (args.direction == '1-0' and new_style_label == 0):\n",
        "                                select_sent = ref_hat\n",
        "                                print_es()\n",
        "                                break_flag = True\n",
        "                                break\n",
        "                    except Exception as e:\n",
        "                        print(f\"Scoring error for candidate {ref_new_batch_data}: {e}\")\n",
        "                        continue\n",
        "\n",
        "                if break_flag:\n",
        "                    break\n",
        "\n",
        "                if max_score > step_max_score_list[step]:\n",
        "                    print(\"hill climbing!\")\n",
        "                    logging.info(\"hill climbing!\")\n",
        "                    ref_olds = [select_sent]\n",
        "                    step_max_score_list.append(max_score.item())\n",
        "                else:\n",
        "                    print(\"don't climb, stop!\")\n",
        "                    logging.info(\"don't climb, stop!\")\n",
        "                    break_flag = True\n",
        "\n",
        "                if break_flag:\n",
        "                    break\n",
        "\n",
        "            logging.info(f'climb {step + 1} steps, the selected sentence is: {select_sent}')\n",
        "            print(f'climb {step + 1} steps, the selected sentence is: {select_sent}')\n",
        "\n",
        "            f.write(select_sent + '\\n')\n",
        "            f.flush()\n",
        "\n",
        "    print(f\"Outputs saved to {output_path}\")\n",
        "    return output_path\n",
        "\n",
        "output_path = main()"
      ]
    },
    {
      "cell_type": "markdown",
      "metadata": {
        "id": "8ImiwKHQaajN"
      },
      "source": [
        "### Classification & Semantic Similarity"
      ]
    },
    {
      "cell_type": "code",
      "execution_count": null,
      "metadata": {
        "colab": {
          "base_uri": "https://localhost:8080/",
          "height": 209,
          "referenced_widgets": [
            "b2bc317c693547669e3cc7453de7737a",
            "7af94e779cf84b499b8c8d22bdbfc1e3",
            "45f67a67cda847048ad08f322c192200",
            "5a4a8012e79e464aaa4dbe734d3ad8d1",
            "255c34e5de904ff98663afe3c6df51ea",
            "c9e7f51da3b34a0a9d2c11541689566f",
            "2cae0fd7de294b4598b99f565371fdbf",
            "5cebf5b9b97a407985eb4c3b33270ac6",
            "12235c6808324fdab0729ed96d8ebd2c",
            "4f9ca0920b6d4c6f981437d9dea91941",
            "35168fb079f3473c8a12191c3a459ed6",
            "60891f9d8f824201a00427ed2f637efa",
            "8bbb2e25a3224295ac931ea460372a55",
            "fffb5c2f9b4d40b48492d14107628d2b",
            "45bc92511b4848b38fb79546e9d2b3fa",
            "09ed4f88cff7420ba0c88f0a560f2f80",
            "71a1b09b28914dcb87063374b46ab09f",
            "306d296ee68245289e45ff612a8bbd83",
            "231e4dff317f4e2b82ffdead635d0c78",
            "85e6bbfd22c44d30af9a45320df2bded",
            "cfbef5f39ea64383a79d3a0262c12c13",
            "012fa2e7176d43cab5d50cfd72faa2e0",
            "edb4db8f09b34385a9b18977bf2a0348",
            "37caad7269d740e7ba7e3892d8f306e9",
            "17b59a56357a4084a6dc1f79fc4dc992",
            "4003bbb3bfc64f26851c9cd41223eafd",
            "6b82e6d0564d44a4ab6daa448cfa6603",
            "a3a26d8a9a484866b2438b4aa8d7d1c0",
            "71c6428a1c054f1db954809348513d65",
            "960fdd9831e244279bc5d0802d910922",
            "0e90e39041b245ef9dffec68d26121aa",
            "1d5d1d111764459591bcbfa43084a3d3",
            "45b82b3491324825a4a40636cd56c4c1",
            "99da5c12af70402c8d77a78c33e7e5a2",
            "ba3dbeece36c4a6cbedcce6cd55399a5",
            "a5fca197031b48d9be484f4b89d8d29f",
            "22f129d16beb4ae3aab046657e67f468",
            "4a2cf0c7136b40c69036bf83c26466c3",
            "4be99b4863c24f3aa59d87c6a3cfed19",
            "21bb40b3cd2d4636a5346d1bfff7f194",
            "4e35c261e2ca4c688cd0e379a1f0db8d",
            "0c22c7fb3b9146f8b68a00f9a637f64e",
            "c60a249a3b994d20a9d3f6d0c2225c79",
            "e23b44f4643b48d7896cc3fb28ef4366",
            "214367152443405898b79c673cdd3d09",
            "7601a6b3c0304c6a803e1f243c012b0a",
            "c0891ac3216a4baa92dca0bf0bb012ca",
            "6523fcf44a074969a96e9f507ff7a7d8",
            "71f5e5575fab42e1af7a3670b58eeff3",
            "ee2689dea54a461ea8ce2feb99990b24",
            "b5dc508852bc4ebea95b4051ebc4c76a",
            "fdaa7ac712874f4696ca680438bedda5",
            "9e6f5a51c935468f890070410537ae3f",
            "77a5806290194fcd9497ce6858eded0a",
            "a705fd1c8c944927a404ea0c730d892d",
            "3af7b24b63124b9eb507ddead903a873",
            "5665c4a675544e5392c84f33d62dabd2",
            "b7aab99723514d48abdd66ac642edfdc",
            "148a42fd473b4032a27e875f4cc2feae",
            "97186de346df42ba915387b58175f7e7",
            "64603047804240b1b0ea7b016a966048",
            "a9a920a54f1740e6891114133f61d12c",
            "eb06a88b044e454683fdde46974095b4",
            "d255e793fe1c44f6883978e1255edd87",
            "6f11417f2fdd491ca61ad0a205d65015",
            "7e7d91c877e9427ca43a6f0c29164033"
          ]
        },
        "id": "odN0o-M_Atfj",
        "outputId": "a99f6d0e-78cd-443e-dc7a-e3a61aea061c"
      },
      "outputs": [
        {
          "data": {
            "application/vnd.jupyter.widget-view+json": {
              "model_id": "b2bc317c693547669e3cc7453de7737a",
              "version_major": 2,
              "version_minor": 0
            },
            "text/plain": [
              "tokenizer_config.json:   0%|          | 0.00/25.0 [00:00<?, ?B/s]"
            ]
          },
          "metadata": {},
          "output_type": "display_data"
        },
        {
          "data": {
            "application/vnd.jupyter.widget-view+json": {
              "model_id": "60891f9d8f824201a00427ed2f637efa",
              "version_major": 2,
              "version_minor": 0
            },
            "text/plain": [
              "config.json:   0%|          | 0.00/559 [00:00<?, ?B/s]"
            ]
          },
          "metadata": {},
          "output_type": "display_data"
        },
        {
          "data": {
            "application/vnd.jupyter.widget-view+json": {
              "model_id": "edb4db8f09b34385a9b18977bf2a0348",
              "version_major": 2,
              "version_minor": 0
            },
            "text/plain": [
              "vocab.json: 0.00B [00:00, ?B/s]"
            ]
          },
          "metadata": {},
          "output_type": "display_data"
        },
        {
          "data": {
            "application/vnd.jupyter.widget-view+json": {
              "model_id": "99da5c12af70402c8d77a78c33e7e5a2",
              "version_major": 2,
              "version_minor": 0
            },
            "text/plain": [
              "merges.txt: 0.00B [00:00, ?B/s]"
            ]
          },
          "metadata": {},
          "output_type": "display_data"
        },
        {
          "data": {
            "application/vnd.jupyter.widget-view+json": {
              "model_id": "214367152443405898b79c673cdd3d09",
              "version_major": 2,
              "version_minor": 0
            },
            "text/plain": [
              "special_tokens_map.json:   0%|          | 0.00/772 [00:00<?, ?B/s]"
            ]
          },
          "metadata": {},
          "output_type": "display_data"
        },
        {
          "data": {
            "application/vnd.jupyter.widget-view+json": {
              "model_id": "3af7b24b63124b9eb507ddead903a873",
              "version_major": 2,
              "version_minor": 0
            },
            "text/plain": [
              "model.safetensors:   0%|          | 0.00/501M [00:00<?, ?B/s]"
            ]
          },
          "metadata": {},
          "output_type": "display_data"
        }
      ],
      "source": [
        "cls_name = 'VictorSanh/roberta-base-finetuned-yelp-polarity'\n",
        "cls_tok = AutoTokenizer.from_pretrained(cls_name)\n",
        "cls_model = AutoModelForSequenceClassification.from_pretrained(cls_name).to(device)\n",
        "cls_model.eval()\n",
        "\n",
        "def classify_texts(texts):\n",
        "    toks = cls_tok(texts, truncation=True, padding=True, return_tensors='pt').to(device)\n",
        "    with torch.no_grad():\n",
        "        logits = cls_model(**toks).logits\n",
        "        probs = torch.nn.functional.softmax(logits, dim=-1).cpu().numpy()\n",
        "    return probs[:, 1]\n",
        "\n",
        "sem_model = SentenceTransformer(\"all-MiniLM-L6-v2\")\n",
        "\n",
        "def semantic_similarity(a, b):\n",
        "    embeddings = sem_model.encode([a, b], convert_to_tensor=True)\n",
        "    return util.cos_sim(embeddings[0], embeddings[1]).item()"
      ]
    },
    {
      "cell_type": "markdown",
      "metadata": {
        "id": "qC7UsiNsaeZY"
      },
      "source": [
        "### Perplexity"
      ]
    },
    {
      "cell_type": "code",
      "execution_count": null,
      "metadata": {
        "colab": {
          "base_uri": "https://localhost:8080/",
          "height": 209,
          "referenced_widgets": [
            "6749153aab1b424186a9d0b790973303",
            "8e3b17c51c5c4b03913a86cc9d6aa36e",
            "2a70a316c9ee426489ce305e173d5946",
            "4813a4f90400407b8afcad9522e2c5c1",
            "2b33af6ca4aa4eebb6b93089b4d4d3ef",
            "bab09f82b0d74d7c8aa5de62bf054dee",
            "17724b972f2a474cbd2e2b38bbded30c",
            "01cb1e2a304a44d8b5bcc984a83fa0a2",
            "93fd633185c34b28b2207ad2bc3cc883",
            "d18acd513d7940af8c5e657874a4f3a6",
            "64098128e4f54f599b8faa7681236eb5",
            "5414c78edcf44503903af6feed22cf8a",
            "4c3c443817124263b7ef38ec40bbdfd1",
            "6cae94125b2c42b685bfcfe9aa0bd1bb",
            "4e7ccf88720f458f9e00c7651371e696",
            "2ac9824a522541ab9e1e56b9b7a3a97c",
            "e1809aa51415446bb2c9cc8be07b27cd",
            "75d6568d4f5445abb17e553853780038",
            "2576b3459d3a42dd8b9f7b76f24887c7",
            "9a006f888c82447285fa5d6b67620d70",
            "583008d3fb2e49fb8573bc3591ea8325",
            "9f32d20e4ff64bda97ff82affbc4ee28",
            "377c01b7b26641689d254212bb74b533",
            "03abf82236104184be8edabef3c0aec4",
            "ee381783a31e4ea892aad1e71d1304c3",
            "051d12870b664059977d1273d81d9999",
            "2b5956757717482b8462343524143b19",
            "579f86c20e3d46bca91bfee4c3932dcf",
            "491e76433aad40fdbf10d6e1ba691709",
            "59073eab0e524b049c79e28f2940287c",
            "ae95a25055f34195b869bfe05239189a",
            "e48dd4bc6da34e268f12c105a687a891",
            "c8a8ffe5331b4334ba85052f3144940b",
            "b6da3b28164944caa98f443fbff4c3b7",
            "70f8e588058646d899e743972901bcb2",
            "7c40106a703d4ce49cb9dbaca931e0aa",
            "a56b88d0fef04eeda535650c22da48b1",
            "1fd7a1b974414602b8bb71b1e027d190",
            "c6465e8c97794ba4a50f6947b5722124",
            "3063309b08364d9889523bc04b99b0c7",
            "8c62e45e4a7a492aa256cb2ea8f10626",
            "41111a4f7c9d41f294e7e137209e70df",
            "d83d391e2abe4e0897b57a710227c0eb",
            "0bca718ff07d493297f8fc7e4961f7ab",
            "eecbbb3a9c5c4fdebd289d7e55aba82a",
            "e9e916ecf34a4b6fa38f92e55438ff62",
            "d632cbf817f8476cbee1abac89cb4da1",
            "2bb5e4d243a54157bc3cafbc377c5e80",
            "d3eaeeafd5aa4cff83e3cf037e4653ae",
            "14ee7b70821f41d49c72d4a2f8ebd4f8",
            "480f55bb47d54dc1840c7c2b3077670a",
            "a6555dc9812a4746be9787caa62e4b2a",
            "a0d75cdb242a4f6dae71b668e21b2ada",
            "295a8f99904e426abbf50288f756e56a",
            "50bae60209d24521b8192f3d9da23250",
            "ae73872813a84605a835fec00f1c3a36",
            "99159717080a44e599f5fb5532a41659",
            "b463dd17a95f4b89a81142c46d8b8336",
            "9575bb4bf0d54eb0b4591db6dacf7d53",
            "da8e5ffb68ea4624b3bdf90f395718f2",
            "a136196b7eab47ccb3f522d8e1404449",
            "7fa4a0a056054c93aeb7e0e90ba628ad",
            "646f0925344548689fbd46773d1427f4",
            "07c60b1f782148cfa1b77dd84e824519",
            "4880736f9a6c483db44cafbec69de92c",
            "fc2b2803c146467b88c1bf68c4c00feb"
          ]
        },
        "id": "BgvYWZ0jdx7r",
        "outputId": "1bcb4281-a965-4508-ee37-774aea54d621"
      },
      "outputs": [
        {
          "data": {
            "application/vnd.jupyter.widget-view+json": {
              "model_id": "6749153aab1b424186a9d0b790973303",
              "version_major": 2,
              "version_minor": 0
            },
            "text/plain": [
              "tokenizer_config.json:   0%|          | 0.00/200 [00:00<?, ?B/s]"
            ]
          },
          "metadata": {},
          "output_type": "display_data"
        },
        {
          "data": {
            "application/vnd.jupyter.widget-view+json": {
              "model_id": "5414c78edcf44503903af6feed22cf8a",
              "version_major": 2,
              "version_minor": 0
            },
            "text/plain": [
              "config.json: 0.00B [00:00, ?B/s]"
            ]
          },
          "metadata": {},
          "output_type": "display_data"
        },
        {
          "data": {
            "application/vnd.jupyter.widget-view+json": {
              "model_id": "377c01b7b26641689d254212bb74b533",
              "version_major": 2,
              "version_minor": 0
            },
            "text/plain": [
              "vocab.json: 0.00B [00:00, ?B/s]"
            ]
          },
          "metadata": {},
          "output_type": "display_data"
        },
        {
          "data": {
            "application/vnd.jupyter.widget-view+json": {
              "model_id": "b6da3b28164944caa98f443fbff4c3b7",
              "version_major": 2,
              "version_minor": 0
            },
            "text/plain": [
              "merges.txt: 0.00B [00:00, ?B/s]"
            ]
          },
          "metadata": {},
          "output_type": "display_data"
        },
        {
          "data": {
            "application/vnd.jupyter.widget-view+json": {
              "model_id": "eecbbb3a9c5c4fdebd289d7e55aba82a",
              "version_major": 2,
              "version_minor": 0
            },
            "text/plain": [
              "special_tokens_map.json:   0%|          | 0.00/90.0 [00:00<?, ?B/s]"
            ]
          },
          "metadata": {},
          "output_type": "display_data"
        },
        {
          "data": {
            "application/vnd.jupyter.widget-view+json": {
              "model_id": "ae73872813a84605a835fec00f1c3a36",
              "version_major": 2,
              "version_minor": 0
            },
            "text/plain": [
              "model.safetensors:   0%|          | 0.00/10.7G [00:00<?, ?B/s]"
            ]
          },
          "metadata": {},
          "output_type": "display_data"
        }
      ],
      "source": [
        "ppl_tokenizer = AutoTokenizer.from_pretrained(\"EleutherAI/gpt-neo-1.3B\")\n",
        "ppl_model = AutoModelForCausalLM.from_pretrained(\"EleutherAI/gpt-neo-1.3B\").to(device)\n",
        "ppl_model.eval()\n",
        "\n",
        "def perplexity(text):\n",
        "    enc = ppl_tokenizer(text, return_tensors='pt', truncation=True, max_length=128).to(device)\n",
        "    with torch.no_grad():\n",
        "        out = ppl_model(**enc, labels=enc.input_ids)\n",
        "    return math.exp(out.loss.item())"
      ]
    },
    {
      "cell_type": "markdown",
      "metadata": {
        "id": "mbDuQG6Tbo8f"
      },
      "source": [
        "### Results Comparison and Plotting"
      ]
    },
    {
      "cell_type": "code",
      "execution_count": null,
      "metadata": {
        "id": "v2LiGS1p-fsC"
      },
      "outputs": [],
      "source": [
        "def compare_results(orig_file, gen_file):\n",
        "    with open(orig_file, 'r', encoding='utf8') as f:\n",
        "        orig_sents = [l.strip() for l in f.readlines() if l.strip()]\n",
        "    with open(gen_file, 'r', encoding='utf8') as f:\n",
        "        gen_sents = [l.strip() for l in f.readlines() if l.strip()]\n",
        "\n",
        "    results = []\n",
        "    for o, g in tqdm(zip(orig_sents, gen_sents), total=min(len(orig_sents), len(gen_sents)), desc=\"Evaluating\"):\n",
        "        o_sentiment = classify_texts([o])[0]\n",
        "        g_sentiment = classify_texts([g])[0]\n",
        "        sem_sim = semantic_similarity(o, g)\n",
        "\n",
        "        results.append({\n",
        "            \"original\": o,\n",
        "            \"rewritten\": g,\n",
        "            \"baseline_sentiment\": o_sentiment,\n",
        "            \"steered_sentiment\": g_sentiment,\n",
        "            \"baseline_perplexity\": perplexity(o),\n",
        "            \"steered_perplexity\": perplexity(g),\n",
        "            \"semantic_similarity\": sem_sim\n",
        "        })\n",
        "\n",
        "    return pd.DataFrame(results)\n"
      ]
    },
    {
      "cell_type": "code",
      "execution_count": null,
      "metadata": {
        "id": "2cI50YDk-fuV"
      },
      "outputs": [],
      "source": [
        "def plot_results(df, title_prefix):\n",
        "    # Sentiment\n",
        "    plt.figure(figsize=(12,5))\n",
        "    plt.plot(df.index, df['baseline_sentiment'], label='Original Sentiment', marker='o')\n",
        "    plt.plot(df.index, df['steered_sentiment'], label='Rewritten Sentiment', marker='o')\n",
        "    plt.title(f\"{title_prefix}: Sentiment Shift\")\n",
        "    plt.xlabel(\"Sentence Index\")\n",
        "    plt.ylabel(\"Positive Sentiment Probability\")\n",
        "    plt.legend()\n",
        "    plt.grid(True)\n",
        "    plt.show()\n",
        "\n",
        "    # Perplexity\n",
        "    plt.figure(figsize=(12,5))\n",
        "    plt.plot(df.index, df['baseline_perplexity'], label='Original PPL', marker='o')\n",
        "    plt.plot(df.index, df['steered_perplexity'], label='Rewritten PPL', marker='o')\n",
        "    plt.title(f\"{title_prefix}: Perplexity\")\n",
        "    plt.xlabel(\"Sentence Index\")\n",
        "    plt.ylabel(\"Perplexity\")\n",
        "    plt.legend()\n",
        "    plt.grid(True)\n",
        "    plt.show()\n"
      ]
    },
    {
      "cell_type": "code",
      "execution_count": null,
      "metadata": {
        "colab": {
          "base_uri": "https://localhost:8080/",
          "height": 974
        },
        "id": "U_YG4ke5-f0C",
        "outputId": "e5aec634-65d1-4768-d226-5b382901be7b"
      },
      "outputs": [
        {
          "name": "stderr",
          "output_type": "stream",
          "text": [
            "Evaluating: 100%|██████████| 39/39 [00:06<00:00,  5.69it/s]\n"
          ]
        },
        {
          "data": {
            "image/png": "[encoded data removed]",
            "text/plain": [
              "<Figure size 1200x500 with 1 Axes>"
            ]
          },
          "metadata": {},
          "output_type": "display_data"
        },
        {
          "data": {
            "image/png": "[encoded data removed]",
            "text/plain": [
              "<Figure size 1200x500 with 1 Axes>"
            ]
          },
          "metadata": {},
          "output_type": "display_data"
        }
      ],
      "source": [
        "orig_file = \"/content/data/yelp/test.0\"\n",
        "gen_file = output_path\n",
        "df = compare_results(orig_file, gen_file)\n",
        "\n",
        "plot_results(df, \"Yelp Test.0\")"
      ]
    },
    {
      "cell_type": "code",
      "execution_count": null,
      "metadata": {
        "colab": {
          "base_uri": "https://localhost:8080/"
        },
        "id": "cY0VfUqdjkxC",
        "outputId": "47f4b77d-9cab-4db1-a729-3cb50c8611ac"
      },
      "outputs": [
        {
          "name": "stdout",
          "output_type": "stream",
          "text": [
            "Average Baseline Sentiment: 0.02907745\n",
            "Average Steered Sentiment: 0.5198086\n",
            "Average Baseline Perplexity: 300.9295600232479\n",
            "Average Steered Perplexity: 295.7710737526562\n",
            "Average Semantic Similarity: 0.6850492763213623\n"
          ]
        }
      ],
      "source": [
        "print(\"Average Baseline Sentiment:\", df['baseline_sentiment'].mean())\n",
        "print(\"Average Steered Sentiment:\", df['steered_sentiment'].mean())\n",
        "print(\"Average Baseline Perplexity:\", df['baseline_perplexity'].mean())\n",
        "print(\"Average Steered Perplexity:\", df['steered_perplexity'].mean())\n",
        "print(\"Average Semantic Similarity:\", df['semantic_similarity'].mean())"
      ]
    }
  ],
  "metadata": {
    "accelerator": "GPU",
    "colab": {
      "gpuType": "T4",
      "provenance": [],
      "toc_visible": true
    },
    "kernelspec": {
      "display_name": "Python 3",
      "name": "python3"
    },
    "language_info": {
      "name": "python"
    }
  },
  "nbformat": 4,
  "nbformat_minor": 0
}
